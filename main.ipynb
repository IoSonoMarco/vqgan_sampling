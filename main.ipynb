{
 "cells": [
  {
   "cell_type": "code",
   "execution_count": 1,
   "id": "cc13f1ae",
   "metadata": {},
   "outputs": [],
   "source": [
    "import torch\n",
    "import torch.nn as nn\n",
    "import numpy as np\n",
    "import pandas as pd\n",
    "from lib.data import ImageTokenDataset, ImageTokenDatasetAbstractCategories\n",
    "from lib.models import (\n",
    "    ConditionalTransformerDecoderConfig, ConditionalTransformerDecoder,\n",
    "    VanillaTransformerDecoderConfig, VanillaTransformerDecoder\n",
    ")\n",
    "from lib import filepaths"
   ]
  },
  {
   "cell_type": "code",
   "execution_count": 2,
   "id": "23ccfeec",
   "metadata": {},
   "outputs": [
    {
     "name": "stdout",
     "output_type": "stream",
     "text": [
      "#params: 1459200\n"
     ]
    }
   ],
   "source": [
    "config = ConditionalTransformerDecoderConfig(\n",
    "    d_model=128,\n",
    "    n_layers=6,\n",
    "    n_heads=4,\n",
    "    class_prompt_length=5,\n",
    "    n_classes=10\n",
    ")\n",
    "\n",
    "model = ConditionalTransformerDecoder(config)"
   ]
  },
  {
   "cell_type": "code",
   "execution_count": 3,
   "id": "e9d86a7f",
   "metadata": {},
   "outputs": [
    {
     "data": {
      "text/plain": [
       "torch.Size([6, 256, 1024])"
      ]
     },
     "execution_count": 3,
     "metadata": {},
     "output_type": "execute_result"
    }
   ],
   "source": [
    "model(torch.randint(0,1024,(6,256)), torch.arange(6)).logits.shape"
   ]
  },
  {
   "cell_type": "code",
   "execution_count": 8,
   "id": "0fc6b24e",
   "metadata": {},
   "outputs": [
    {
     "name": "stdout",
     "output_type": "stream",
     "text": [
      "#params: 1452928\n"
     ]
    }
   ],
   "source": [
    "config = VanillaTransformerDecoderConfig(\n",
    "    d_model=128,\n",
    "    n_layers=6,\n",
    "    n_heads=4\n",
    ")\n",
    "\n",
    "model = VanillaTransformerDecoder(config)"
   ]
  },
  {
   "cell_type": "code",
   "execution_count": 12,
   "id": "b101260a",
   "metadata": {},
   "outputs": [
    {
     "data": {
      "text/plain": [
       "torch.Size([6, 256, 1024])"
      ]
     },
     "execution_count": 12,
     "metadata": {},
     "output_type": "execute_result"
    }
   ],
   "source": [
    "model(torch.randint(0,1024,(6,256))).logits.shape"
   ]
  },
  {
   "cell_type": "code",
   "execution_count": null,
   "id": "75e094d5",
   "metadata": {},
   "outputs": [],
   "source": []
  }
 ],
 "metadata": {
  "kernelspec": {
   "display_name": "neuro",
   "language": "python",
   "name": "python3"
  },
  "language_info": {
   "codemirror_mode": {
    "name": "ipython",
    "version": 3
   },
   "file_extension": ".py",
   "mimetype": "text/x-python",
   "name": "python",
   "nbconvert_exporter": "python",
   "pygments_lexer": "ipython3",
   "version": "3.13.2"
  }
 },
 "nbformat": 4,
 "nbformat_minor": 5
}
